{
 "cells": [
  {
   "cell_type": "code",
   "execution_count": null,
   "id": "0aa9ad33",
   "metadata": {},
   "outputs": [],
   "source": [
    "import kagglehub\n",
    "\n",
    "# Download latest version\n",
    "path = kagglehub.dataset_download(\"rakeshkapilavai/extrovert-vs-introvert-behavior-data\")\n",
    "\n",
    "print(\"Path to dataset files:\", path)"
   ]
  },
  {
   "cell_type": "code",
   "execution_count": null,
   "id": "a827e4d4",
   "metadata": {},
   "outputs": [],
   "source": [
    "import os\n",
    "import pandas as pd\n",
    "import numpy as np\n",
    "csv_file=\"personality_dataset.csv\"\n",
    "data_file_path=os.path.join(path,csv_file)\n",
    "try:\n",
    "    df=pd.read_csv(data_file_path)\n",
    "    print(\"Data Loaded Successfuly!\")\n",
    "    print(df.head)\n",
    "except:\n",
    "    print(f\"Error: {csv_filename} not found in {download_path}. Please check the actual file name and path.\")"
   ]
  },
  {
   "cell_type": "code",
   "execution_count": null,
   "id": "3d7c2b54",
   "metadata": {},
   "outputs": [],
   "source": [
    "df.info()"
   ]
  },
  {
   "cell_type": "code",
   "execution_count": null,
   "id": "ea0fc8be",
   "metadata": {},
   "outputs": [],
   "source": [
    "df.describe()"
   ]
  },
  {
   "cell_type": "code",
   "execution_count": null,
   "id": "8e2fe045",
   "metadata": {},
   "outputs": [],
   "source": [
    "%matplotlib inline\n",
    "import matplotlib.pyplot as plt\n",
    "df.hist(bins=50,figsize=(20,15))\n",
    "plt.show()"
   ]
  },
  {
   "cell_type": "code",
   "execution_count": null,
   "id": "82631cc9",
   "metadata": {},
   "outputs": [],
   "source": [
    "from sklearn.model_selection import StratifiedShuffleSplit\n",
    "split=StratifiedShuffleSplit(n_splits=1,test_size=0.2,random_state=42)\n",
    "for train_index,test_index in split.split(df,df['Personality']):\n",
    "    strat_train_set=df.loc[train_index]\n",
    "    strat_test_set=df.loc[test_index]"
   ]
  },
  {
   "cell_type": "code",
   "execution_count": null,
   "id": "3baa722c",
   "metadata": {},
   "outputs": [],
   "source": [
    "strat_train_set['Personality'].value_counts()/len(strat_train_set)"
   ]
  },
  {
   "cell_type": "code",
   "execution_count": null,
   "id": "c3a504cf",
   "metadata": {},
   "outputs": [],
   "source": [
    "non_numeric=df.select_dtypes(include=['object','category']).columns.to_list()\n",
    "df_numeric = df.drop(columns=non_numeric)\n",
    "corr_matrix = df_numeric.corr()\n",
    "corr_matrix"
   ]
  },
  {
   "cell_type": "code",
   "execution_count": null,
   "id": "627bc4b4",
   "metadata": {},
   "outputs": [],
   "source": [
    "behaviour = strat_train_set.drop(\"Personality\", axis=1)\n",
    "behaviour_test=strat_test_set.drop(\"Personality\", axis=1)\n",
    "behaviour_labels = strat_train_set[\"Personality\"].copy()\n",
    "behaviour_labels_test=strat_test_set[\"Personality\"].copy()\n",
    "print(non_numeric)"
   ]
  },
  {
   "cell_type": "code",
   "execution_count": null,
   "id": "7f6cb56f",
   "metadata": {},
   "outputs": [],
   "source": [
    "remove=[x for x in non_numeric if x!='Personality']\n",
    "behaviour_num = behaviour.drop(remove, axis=1)\n",
    "behaviour_cat = behaviour[[\"Stage_fear\",\"Drained_after_socializing\"]]\n",
    "behaviour_num_test = behaviour_test.drop(remove, axis=1)\n",
    "behaviour_cat_test = behaviour_test[[\"Stage_fear\",\"Drained_after_socializing\"]]\n"
   ]
  },
  {
   "cell_type": "code",
   "execution_count": null,
   "id": "141e97b9",
   "metadata": {},
   "outputs": [],
   "source": [
    "from sklearn.pipeline import Pipeline\n",
    "from sklearn.compose import ColumnTransformer\n",
    "from sklearn.impute import SimpleImputer\n",
    "from sklearn.preprocessing import OrdinalEncoder\n",
    "from sklearn.preprocessing import StandardScaler\n",
    "num_pipeline = Pipeline([\n",
    "    ('imputer', SimpleImputer(strategy=\"median\")),\n",
    "    ('std_scaler',StandardScaler())\n",
    "])\n",
    "\n",
    "\n",
    "cat_pipeline = Pipeline([\n",
    "    (\"imputer\", SimpleImputer(strategy=\"most_frequent\")),\n",
    "    ('encoder', OrdinalEncoder())\n",
    "])\n",
    "\n",
    "\n",
    "full_pipeline = ColumnTransformer([\n",
    "    ('num', num_pipeline, behaviour_num.columns),\n",
    "    ('cat', cat_pipeline, behaviour_cat.columns)\n",
    "])\n",
    "\n",
    "behaviour_prepared = full_pipeline.fit_transform(behaviour)\n",
    "behaviour_prepared_test = full_pipeline.transform(behaviour_test)"
   ]
  },
  {
   "cell_type": "code",
   "execution_count": null,
   "id": "782a8484",
   "metadata": {},
   "outputs": [],
   "source": [
    "import pandas as pd\n",
    "\n",
    "num_features = behaviour_num.columns.tolist()\n",
    "cat_features = behaviour_cat.columns.tolist()\n",
    "all_features = num_features + cat_features\n",
    "\n",
    "behaviour_prepared_df = pd.DataFrame(behaviour_prepared, columns=all_features)\n",
    "\n",
    "print(behaviour_prepared_df.shape)                   \n",
    "print(behaviour_prepared_df.isnull().sum())          \n",
    "print(behaviour_prepared_df.Social_event_attendance.count())  \n",
    "\n"
   ]
  },
  {
   "cell_type": "code",
   "execution_count": null,
   "id": "195ce344",
   "metadata": {},
   "outputs": [],
   "source": [
    "from sklearn.linear_model import LogisticRegression\n",
    "log_reg=LogisticRegression()\n",
    "log_reg.fit(behaviour_prepared,behaviour_labels)"
   ]
  },
  {
   "cell_type": "code",
   "execution_count": null,
   "id": "a635592b",
   "metadata": {},
   "outputs": [],
   "source": [
    "from sklearn.model_selection import cross_val_score\n",
    "scores=cross_val_score(log_reg,behaviour_prepared,behaviour_labels,scoring='accuracy',cv=10)\n",
    "print(\"Accuracy scores from each fold:\", scores)\n",
    "print(\"Mean accuracy:\", scores.mean())\n",
    "print(\"Standard deviation:\", scores.std())"
   ]
  },
  {
   "cell_type": "code",
   "execution_count": null,
   "id": "951f1be3",
   "metadata": {},
   "outputs": [],
   "source": [
    "from sklearn.ensemble import RandomForestClassifier\n",
    "forest_clas = RandomForestClassifier(max_depth=5,max_features='sqrt',random_state=42,class_weight='balanced')\n",
    "forest_clas.fit(behaviour_prepared, behaviour_labels)"
   ]
  },
  {
   "cell_type": "code",
   "execution_count": null,
   "id": "c4e52715",
   "metadata": {},
   "outputs": [],
   "source": [
    "forest_clas_scores=cross_val_score(forest_clas,behaviour_prepared,behaviour_labels,scoring='accuracy',cv=10)\n",
    "print(\"Accuracy scores from each fold:\", forest_clas_scores)\n",
    "print(\"Mean accuracy:\", forest_clas_scores.mean())\n",
    "print(\"Standard deviation:\", forest_clas_scores.std())"
   ]
  },
  {
   "cell_type": "code",
   "execution_count": null,
   "id": "72ee10ce",
   "metadata": {},
   "outputs": [],
   "source": [
    "from sklearn.tree import DecisionTreeClassifier\n",
    "des_tree_clas=DecisionTreeClassifier(max_depth=5,max_features='sqrt',random_state=42)\n",
    "des_tree_clas.fit(behaviour_prepared,behaviour_labels)"
   ]
  },
  {
   "cell_type": "code",
   "execution_count": null,
   "id": "8fbe9f60",
   "metadata": {},
   "outputs": [],
   "source": [
    "d_scores=cross_val_score(des_tree_clas,behaviour_prepared,behaviour_labels,scoring='accuracy',cv=10)\n",
    "print(\"Accuracy scores from each fold:\", d_scores)\n",
    "print(\"Mean accuracy:\", d_scores.mean())\n",
    "print(\"Standard deviation:\", d_scores.std())"
   ]
  },
  {
   "cell_type": "code",
   "execution_count": null,
   "id": "8363eed1",
   "metadata": {},
   "outputs": [],
   "source": [
    "from sklearn.ensemble import GradientBoostingClassifier\n",
    "gr_clas=GradientBoostingClassifier()\n",
    "gr_clas.fit(behaviour_prepared,behaviour_labels)"
   ]
  },
  {
   "cell_type": "code",
   "execution_count": null,
   "id": "59f99ed0",
   "metadata": {},
   "outputs": [],
   "source": [
    "gr_scores=cross_val_score(gr_clas,behaviour_prepared,behaviour_labels,scoring='accuracy',cv=10)\n",
    "print(\"Accuracy scores from each fold:\", gr_scores)\n",
    "print(\"Mean accuracy:\", gr_scores.mean())\n",
    "print(\"Standard deviation:\", gr_scores.std())"
   ]
  },
  {
   "cell_type": "code",
   "execution_count": null,
   "id": "9eab0ca2",
   "metadata": {},
   "outputs": [],
   "source": [
    "from sklearn.metrics import accuracy_score, classification_report\n",
    "behaviour_predictions_train=forest_clas.predict(behaviour_prepared)\n",
    "print(\"Accuracy:\",accuracy_score(behaviour_predictions_train,behaviour_labels))\n",
    "print(classification_report(behaviour_labels, behaviour_predictions_train))"
   ]
  },
  {
   "cell_type": "code",
   "execution_count": null,
   "id": "721b7bbb",
   "metadata": {},
   "outputs": [],
   "source": [
    "behaviour_predictions_test=forest_clas.predict(behaviour_prepared_test)\n",
    "print(\"Accuracy:\",accuracy_score(behaviour_predictions_test,behaviour_labels_test))\n",
    "print(classification_report(behaviour_labels_test, behaviour_predictions_test))"
   ]
  },
  {
   "cell_type": "code",
   "execution_count": null,
   "id": "7cbabd76",
   "metadata": {},
   "outputs": [],
   "source": [
    "def predict_personality(\n",
    "    Time_spent_Alone, Social_event_attendance, Going_outside,\n",
    "    Friends_circle_size, Post_frequency, Stage_fear, Drained_after_socializing,model\n",
    "):\n",
    "    import pandas as pd\n",
    "\n",
    "    input_data = pd.DataFrame([{\n",
    "        \"Time_spent_Alone\": Time_spent_Alone,\n",
    "        \"Social_event_attendance\": Social_event_attendance,\n",
    "        \"Going_outside\": Going_outside,\n",
    "        \"Friends_circle_size\": Friends_circle_size,\n",
    "        \"Post_frequency\": Post_frequency,\n",
    "        \"Stage_fear\": Stage_fear,\n",
    "        \"Drained_after_socializing\": Drained_after_socializing\n",
    "    }])\n",
    "    input_data_test = full_pipeline.transform(input_data)\n",
    "    prediction = model.predict(input_data_test)\n",
    "    return prediction[0]\n"
   ]
  },
  {
   "cell_type": "code",
   "execution_count": null,
   "id": "b09055bb",
   "metadata": {},
   "outputs": [],
   "source": [
    "'''Time_spent_Alone=int(input(\"Enter Time Spent Alone\"))\n",
    "Social_event_attendance=int(input(\"Enter the number of hours you attend any social event\"))\n",
    "Going_outside=int(input(\"How many hours do you go outside\"))\n",
    "Friends_circle_size=int(input(\"Whats your Friend Circle size\"))\n",
    "Post_frequency=int(input(\"Social media post frequency\"))\n",
    "Stage_fear=input(\"Presence of stage fright (Yes/No)\")\n",
    "Drained_after_socializing=input(\"Feeling drained after socializing (Yes/No).\")\n",
    "print(predict_personality(\n",
    "    Time_spent_Alone, Social_event_attendance, Going_outside,\n",
    "    Friends_circle_size, Post_frequency, Stage_fear, Drained_after_socializing,forest_clas\n",
    "))'''"
   ]
  },
  {
   "cell_type": "code",
   "execution_count": null,
   "id": "3cbdfc41",
   "metadata": {},
   "outputs": [],
   "source": [
    "print(strat_train_set[strat_train_set['Post_frequency'] == 0]['Personality'].value_counts())\n"
   ]
  },
  {
   "cell_type": "code",
   "execution_count": null,
   "id": "4fd34d58",
   "metadata": {},
   "outputs": [],
   "source": [
    "import matplotlib.pyplot as plt\n",
    "\n",
    "feature_names = behaviour_num.columns.tolist() + behaviour_cat.columns.tolist()\n",
    "\n",
    "importances = gr_clas.feature_importances_\n",
    "sorted_idx = importances.argsort()\n",
    "\n",
    "plt.figure(figsize=(10, 5))\n",
    "plt.barh(range(len(sorted_idx)), importances[sorted_idx], align='center')\n",
    "plt.yticks(range(len(sorted_idx)), [feature_names[i] for i in sorted_idx])\n",
    "plt.xlabel(\"Feature Importance\")\n",
    "plt.title(\"Gradient Boosting - Feature Importances\")\n",
    "plt.tight_layout()\n",
    "plt.show()\n"
   ]
  },
  {
   "cell_type": "code",
   "execution_count": null,
   "id": "5fab0ac0",
   "metadata": {},
   "outputs": [],
   "source": [
    "import seaborn as sns\n",
    "sns.countplot(x='Post_frequency', hue='Personality', data=df)"
   ]
  },
  {
   "cell_type": "code",
   "execution_count": null,
   "id": "484d24b9",
   "metadata": {},
   "outputs": [],
   "source": [
    "behaviour_no_post= behaviour.drop('Post_frequency', axis=1)\n",
    "behaviour_no_post_test=behaviour_test.drop('Post_frequency', axis=1)\n",
    "behaviour_no_post_num = behaviour_num.drop('Post_frequency', axis=1)\n",
    "behaviour_no_post_cat = behaviour_no_post[[\"Stage_fear\",\"Drained_after_socializing\"]]"
   ]
  },
  {
   "cell_type": "code",
   "execution_count": null,
   "id": "fc6da06f",
   "metadata": {},
   "outputs": [],
   "source": [
    "full_pipeline_no_post = ColumnTransformer([\n",
    "    ('num', num_pipeline, behaviour_no_post_num.columns),\n",
    "    ('cat', cat_pipeline, behaviour_no_post_cat.columns)\n",
    "])\n",
    "\n",
    "behaviour_no_post_prepared = full_pipeline_no_post.fit_transform(behaviour_no_post)\n",
    "behaviour_no_post_prepared_test = full_pipeline_no_post.transform(behaviour_no_post_test)"
   ]
  },
  {
   "cell_type": "code",
   "execution_count": null,
   "id": "cd1ac198",
   "metadata": {},
   "outputs": [],
   "source": [
    "forest_clas_new = RandomForestClassifier(max_depth=5,max_features='sqrt',random_state=42,class_weight='balanced')\n",
    "forest_clas_new.fit(behaviour_no_post_prepared, behaviour_labels)"
   ]
  },
  {
   "cell_type": "code",
   "execution_count": null,
   "id": "9bab2f25",
   "metadata": {},
   "outputs": [],
   "source": [
    "forest_clas_new_scores=cross_val_score(forest_clas_new,behaviour_no_post_prepared,behaviour_labels,scoring='accuracy',cv=10)\n",
    "print(\"Accuracy scores from each fold:\", forest_clas_new_scores)\n",
    "print(\"Mean accuracy:\", forest_clas_new_scores.mean())\n",
    "print(\"Standard deviation:\", forest_clas_new_scores.std())"
   ]
  },
  {
   "cell_type": "code",
   "execution_count": null,
   "id": "bd28b72f",
   "metadata": {},
   "outputs": [],
   "source": [
    "from sklearn.metrics import accuracy_score, classification_report\n",
    "behaviour_predictions_no_post_train=forest_clas_new.predict(behaviour_no_post_prepared)\n",
    "print(\"Accuracy:\",accuracy_score(behaviour_predictions_no_post_train,behaviour_labels))\n",
    "print(classification_report(behaviour_labels, behaviour_predictions_no_post_train))"
   ]
  },
  {
   "cell_type": "code",
   "execution_count": null,
   "id": "d20d502d",
   "metadata": {},
   "outputs": [],
   "source": [
    "behaviour_predictions_no_post_test=forest_clas_new.predict(behaviour_no_post_prepared_test)\n",
    "print(\"Accuracy:\",accuracy_score(behaviour_predictions_no_post_test,behaviour_labels_test))\n",
    "print(classification_report(behaviour_labels_test, behaviour_predictions_no_post_test))"
   ]
  },
  {
   "cell_type": "code",
   "execution_count": null,
   "id": "0f265ee7",
   "metadata": {},
   "outputs": [],
   "source": [
    "def predict_personality_new(\n",
    "    Time_spent_Alone, Social_event_attendance, Going_outside,\n",
    "    Friends_circle_size, Stage_fear, Drained_after_socializing,model\n",
    "):\n",
    "    import pandas as pd\n",
    "\n",
    "    input_data = pd.DataFrame([{\n",
    "        \"Time_spent_Alone\": Time_spent_Alone,\n",
    "        \"Social_event_attendance\": Social_event_attendance,\n",
    "        \"Going_outside\": Going_outside,\n",
    "        \"Friends_circle_size\": Friends_circle_size,\n",
    "        \"Stage_fear\": Stage_fear,\n",
    "        \"Drained_after_socializing\": Drained_after_socializing\n",
    "    }])\n",
    "    input_data_test = full_pipeline_no_post.transform(input_data)\n",
    "    prediction = model.predict(input_data_test)\n",
    "    return prediction[0]\n"
   ]
  },
  {
   "cell_type": "code",
   "execution_count": null,
   "id": "34d9696d",
   "metadata": {},
   "outputs": [],
   "source": [
    "Time_spent_Alone=int(input(\"Enter Time Spent Alone\"))\n",
    "Social_event_attendance=int(input(\"Enter the number of hours you attend any social event\"))\n",
    "Going_outside=int(input(\"How many hours do you go outside\"))\n",
    "Friends_circle_size=int(input(\"Whats your Friend Circle size\"))\n",
    "Stage_fear=input(\"Presence of stage fright (Yes/No)\")\n",
    "Drained_after_socializing=input(\"Feeling drained after socializing (Yes/No).\")\n",
    "print(predict_personality_new(\n",
    "    Time_spent_Alone, Social_event_attendance, Going_outside,\n",
    "    Friends_circle_size, Stage_fear, Drained_after_socializing,forest_clas_new\n",
    "))"
   ]
  }
 ],
 "metadata": {
  "kernelspec": {
   "display_name": ".venv",
   "language": "python",
   "name": "python3"
  },
  "language_info": {
   "codemirror_mode": {
    "name": "ipython",
    "version": 3
   },
   "file_extension": ".py",
   "mimetype": "text/x-python",
   "name": "python",
   "nbconvert_exporter": "python",
   "pygments_lexer": "ipython3",
   "version": "3.13.3"
  }
 },
 "nbformat": 4,
 "nbformat_minor": 5
}
